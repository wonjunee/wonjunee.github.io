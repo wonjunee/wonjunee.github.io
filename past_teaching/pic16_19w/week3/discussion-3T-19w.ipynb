{
 "cells": [
  {
   "cell_type": "markdown",
   "metadata": {},
   "source": [
    "# PIC 16 - Discussion 3T"
   ]
  },
  {
   "cell_type": "markdown",
   "metadata": {},
   "source": [
    "---\n",
    "# Iteration"
   ]
  },
  {
   "cell_type": "markdown",
   "metadata": {},
   "source": [
    "Note: There is no **xrange** in Python 3."
   ]
  },
  {
   "cell_type": "code",
   "execution_count": null,
   "metadata": {
    "collapsed": true
   },
   "outputs": [],
   "source": [
    "class yrange:\n",
    "    def __init__(self, n):\n",
    "        self.i = 0\n",
    "        self.n = n\n",
    "\n",
    "    def __iter__(self):\n",
    "        return self\n",
    "    \n",
    "    def __str__(self):\n",
    "        return str(self.i)\n",
    "\n",
    "    def next(self):\n",
    "        if self.i < self.n:\n",
    "            i = self.i\n",
    "            self.i += 1\n",
    "            return i\n",
    "        else:\n",
    "            raise StopIteration()"
   ]
  },
  {
   "cell_type": "code",
   "execution_count": null,
   "metadata": {},
   "outputs": [],
   "source": [
    "b = yrange(10)\n",
    "\n",
    "for i in b:\n",
    "    print i"
   ]
  },
  {
   "cell_type": "code",
   "execution_count": null,
   "metadata": {
    "collapsed": true
   },
   "outputs": [],
   "source": [
    "class yrange:\n",
    "    def __init__(self, n):\n",
    "        self.i = 0\n",
    "        self.n = n\n",
    "\n",
    "    def __iter__(self):\n",
    "        return self\n",
    "    \n",
    "    def __str__(self):\n",
    "        return str(self.i)\n",
    "\n",
    "    def next(self):\n",
    "        if self.i < self.n:\n",
    "            i = self.i\n",
    "            self.i += 1\n",
    "            return i\n",
    "        else:\n",
    "            raise StopIteration()"
   ]
  },
  {
   "cell_type": "code",
   "execution_count": null,
   "metadata": {},
   "outputs": [],
   "source": [
    "b = yrange(10)\n",
    "\n",
    "for i in b:\n",
    "    print i"
   ]
  },
  {
   "cell_type": "markdown",
   "metadata": {},
   "source": [
    "# Problem\n",
    "\n",
    "Modify the above class to take multiple inputs\n",
    "\n",
    "### Input:\n",
    "\n",
    "```\n",
    "a = yrange(10, 2)\n",
    "\n",
    "for i in a:\n",
    "    print a\n",
    "\n",
    "Output: 0, 2, 4, 6, 8\n",
    "    \n",
    "a = yrange(10, 3)\n",
    "\n",
    "for i in a:\n",
    "    print a\n",
    "\n",
    "Output: 0, 3, 6, 9\n",
    "    \n",
    "a = yrange(5, 10, 2)\n",
    "\n",
    "for i in a:\n",
    "    print a\n",
    "\n",
    "Output: 5, 7, 9\n",
    "```"
   ]
  },
  {
   "cell_type": "code",
   "execution_count": null,
   "metadata": {
    "collapsed": true
   },
   "outputs": [],
   "source": []
  },
  {
   "cell_type": "markdown",
   "metadata": {},
   "source": [
    "---\n",
    "# Class"
   ]
  },
  {
   "cell_type": "code",
   "execution_count": null,
   "metadata": {
    "collapsed": true
   },
   "outputs": [],
   "source": [
    "class coordinate:\n",
    "    def __init__(self, *args):\n",
    "        assert len(args) == 2, \"exactly 2 numbers needed\"\n",
    "        self.x = args[0]\n",
    "        self.y = args[1]\n",
    "    \n",
    "    def __repr__(self):\n",
    "        return repr((self.x, self.y))\n",
    "    \n",
    "    def __str__(self):\n",
    "        return str((self.x, self.y))    \n",
    "    \n",
    "    def plus(self, a):\n",
    "        new_x = self.x + a.x\n",
    "        new_y = self.y + a.x\n",
    "        return coordinate(new_x, new_y)"
   ]
  },
  {
   "cell_type": "code",
   "execution_count": null,
   "metadata": {
    "collapsed": true
   },
   "outputs": [],
   "source": [
    "a = coordinate(1,2)\n",
    "b = coordinate(3,4)\n",
    "\n",
    "c = a.plus(b)\n",
    "\n",
    "print a\n",
    "print b\n",
    "print c"
   ]
  },
  {
   "cell_type": "markdown",
   "metadata": {},
   "source": [
    "# Problem\n",
    "\n",
    "```\n",
    "a = coordinate(1,2)\n",
    "b = coordinate(3,4)\n",
    "\n",
    "c = a.dot(b)\n",
    "\n",
    "output:\n",
    "11\n",
    "```\n",
    "$1\\times3 + 2\\times 4 = 11$"
   ]
  },
  {
   "cell_type": "code",
   "execution_count": null,
   "metadata": {
    "collapsed": true
   },
   "outputs": [],
   "source": []
  },
  {
   "cell_type": "markdown",
   "metadata": {},
   "source": [
    "# Problem\n",
    "\n",
    "```\n",
    "a = coordinate(1,2)\n",
    "b = coordinate(3,4)\n",
    "\n",
    "c = a + b\n",
    "\n",
    "output:\n",
    "(4, 6)\n",
    "```"
   ]
  },
  {
   "cell_type": "code",
   "execution_count": null,
   "metadata": {
    "collapsed": true
   },
   "outputs": [],
   "source": []
  },
  {
   "cell_type": "markdown",
   "metadata": {
    "collapsed": true
   },
   "source": [
    "# Problem\n",
    "\n",
    "```\n",
    "a = coordinate(1,2)\n",
    "b = coordinate(3,4)\n",
    "\n",
    "c = a - b\n",
    "\n",
    "output:\n",
    "(-2, -2)\n",
    "```"
   ]
  },
  {
   "cell_type": "code",
   "execution_count": null,
   "metadata": {},
   "outputs": [],
   "source": []
  },
  {
   "cell_type": "markdown",
   "metadata": {},
   "source": [
    "# Problem\n",
    "\n",
    "Create a class **Vector** that can take **n** dimensional vectors and performs +, -, dot operators.\n",
    "\n",
    "### Example Output\n",
    "\n",
    "```python\n",
    "a = Vector(1,2,3,4)\n",
    "b = Vecotr(0,1,-1,2)\n",
    "\n",
    "c = a + b\n",
    "\n",
    "print c # output = (1,3,2,6)\n",
    "\n",
    "d = a - b\n",
    "\n",
    "print d # output = (1,1,4,2)\n",
    "\n",
    "e = a.dot(b)\n",
    "\n",
    "print e # output = 7\n",
    "\n",
    "f = Vector(1,2)\n",
    "\n",
    "g = a + f # print out \"dimensions don't match\".\n",
    "```"
   ]
  },
  {
   "cell_type": "code",
   "execution_count": null,
   "metadata": {},
   "outputs": [],
   "source": []
  }
 ],
 "metadata": {
  "anaconda-cloud": {},
  "kernelspec": {
   "display_name": "Python 2",
   "language": "python",
   "name": "python2"
  },
  "language_info": {
   "codemirror_mode": {
    "name": "ipython",
    "version": 2
   },
   "file_extension": ".py",
   "mimetype": "text/x-python",
   "name": "python",
   "nbconvert_exporter": "python",
   "pygments_lexer": "ipython2",
   "version": "2.7.15"
  }
 },
 "nbformat": 4,
 "nbformat_minor": 1
}
