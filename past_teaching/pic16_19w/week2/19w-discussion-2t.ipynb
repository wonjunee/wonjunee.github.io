{
 "cells": [
  {
   "cell_type": "markdown",
   "metadata": {},
   "source": [
    "# PIC 16 - Discussion 2T\n",
    "# About List Comprehension"
   ]
  },
  {
   "cell_type": "markdown",
   "metadata": {},
   "source": [
    "---\n",
    "## List Comprehension"
   ]
  },
  {
   "cell_type": "code",
   "execution_count": null,
   "metadata": {},
   "outputs": [],
   "source": [
    "numbers = [1,2,3,4,5]\n",
    "\n",
    "a = []\n",
    "for n in numbers:\n",
    "    if n % 2 == 1:\n",
    "        a.append(n ** 2)\n",
    "\n",
    "print a"
   ]
  },
  {
   "cell_type": "code",
   "execution_count": null,
   "metadata": {},
   "outputs": [],
   "source": [
    "a = map(lambda n: n ** 2, filter(lambda n: n % 2 == 1, numbers))\n",
    "print a"
   ]
  },
  {
   "cell_type": "code",
   "execution_count": null,
   "metadata": {},
   "outputs": [],
   "source": [
    "a = [n ** 2 for n in numbers if n % 2 == 1]\n",
    "print a"
   ]
  },
  {
   "cell_type": "code",
   "execution_count": null,
   "metadata": {},
   "outputs": [],
   "source": [
    "colors = [\"red\", \"blue\", \"green\"]\n",
    "objects = [\"car\", \"pen\", \"desk\", \"chair\"]\n",
    "\n",
    "arr = []\n",
    "\n",
    "for color in colors:\n",
    "    for object in objects:\n",
    "        arr.append((color, object))\n",
    "        \n",
    "print arr"
   ]
  },
  {
   "cell_type": "code",
   "execution_count": null,
   "metadata": {},
   "outputs": [],
   "source": [
    "print [(color, obj) for color in colors for obj in objects]"
   ]
  },
  {
   "cell_type": "markdown",
   "metadata": {},
   "source": [
    "## Problem\n",
    "\n",
    "Make list comprehension that creates the Pythagorean triples\n",
    "\n",
    "Output\n",
    "```\n",
    "(3, 4, 5), (5, 12, 13), (6, 8, 10), ...\n",
    "```\n",
    "All values are from 1 to 30"
   ]
  },
  {
   "cell_type": "code",
   "execution_count": null,
   "metadata": {},
   "outputs": [],
   "source": []
  },
  {
   "cell_type": "markdown",
   "metadata": {},
   "source": [
    "## Problem\n",
    "\n",
    "Make list comprehension that creates a list of primes\n",
    "\n",
    "Output: \n",
    "```\n",
    "2, 3, 5, 7, ... , 97\n",
    "```\n",
    "\n",
    "Hint: Eliminate non primes"
   ]
  },
  {
   "cell_type": "code",
   "execution_count": null,
   "metadata": {},
   "outputs": [],
   "source": []
  },
  {
   "cell_type": "markdown",
   "metadata": {},
   "source": [
    "---\n",
    "## Map"
   ]
  },
  {
   "cell_type": "code",
   "execution_count": null,
   "metadata": {},
   "outputs": [],
   "source": [
    "def add_by_2(n):\n",
    "    return n + 2\n",
    "\n",
    "def multiply_by_3(n):\n",
    "    return n * 3\n",
    "\n",
    "numbers = [1,2,3,4,5,6]\n",
    "\n",
    "add = map(add_by_2, numbers)\n",
    "mul = map(multiply_by_3, numbers)\n",
    "\n",
    "print add\n",
    "print mul"
   ]
  },
  {
   "cell_type": "code",
   "execution_count": null,
   "metadata": {},
   "outputs": [],
   "source": [
    "a = [1,2,3,4,5]\n",
    "b = [16,13,23,62,1]\n",
    "c = [17,15,26,66,6]"
   ]
  },
  {
   "cell_type": "code",
   "execution_count": null,
   "metadata": {},
   "outputs": [],
   "source": [
    "a_minus_b = map(lambda x,y: x-y, a,b)\n",
    "print a_minus_b"
   ]
  },
  {
   "cell_type": "markdown",
   "metadata": {},
   "source": [
    "## Problem\n",
    "\n",
    "Do the same thing with lambda"
   ]
  },
  {
   "cell_type": "code",
   "execution_count": null,
   "metadata": {},
   "outputs": [],
   "source": [
    "numbers = [1,2,3,4,5,6]\n",
    "add = map(WRITE DOWN YOUR CODE HERE, numbers)\n",
    "mul = map(WRITE DOWN YOUR CODE HERE, numbers)\n",
    "\n",
    "print add\n",
    "print mul"
   ]
  },
  {
   "cell_type": "markdown",
   "metadata": {},
   "source": [
    "## Problem\n",
    "\n",
    "Create a list for **a + b - c** using map"
   ]
  },
  {
   "cell_type": "code",
   "execution_count": null,
   "metadata": {},
   "outputs": [],
   "source": [
    "a = [1,2,3,4,5]\n",
    "b = [16,13,23,62,1]\n",
    "c = [12,3,20,6,16]\n",
    "\n",
    "ans = WRITE DOWN YOUR CODE HERE\n",
    "print ans"
   ]
  },
  {
   "cell_type": "markdown",
   "metadata": {},
   "source": [
    "---\n",
    "## Filters"
   ]
  },
  {
   "cell_type": "code",
   "execution_count": null,
   "metadata": {},
   "outputs": [],
   "source": [
    "numbers = range(100)\n",
    "print numbers"
   ]
  },
  {
   "cell_type": "code",
   "execution_count": null,
   "metadata": {},
   "outputs": [],
   "source": [
    "odd = filter(lambda x: x % 2, numbers)\n",
    "print odd"
   ]
  },
  {
   "cell_type": "code",
   "execution_count": null,
   "metadata": {},
   "outputs": [],
   "source": [
    "odd = filter(lambda x: x % 2 != 0, numbers)\n",
    "print odd"
   ]
  },
  {
   "cell_type": "markdown",
   "metadata": {},
   "source": [
    "## Problem\n",
    "\n",
    "Create a list of even numbers using filter"
   ]
  },
  {
   "cell_type": "code",
   "execution_count": null,
   "metadata": {},
   "outputs": [],
   "source": [
    "even = WRITE DOWN YOUR CODE\n",
    "print even"
   ]
  },
  {
   "cell_type": "markdown",
   "metadata": {},
   "source": [
    "## Problem\n",
    "\n",
    "Filters out multiples of 3 and 5\n",
    "\n",
    "Output\n",
    "\n",
    "```\n",
    "1, 2, 4, 7, 8, 11, ...\n",
    "```"
   ]
  },
  {
   "cell_type": "code",
   "execution_count": null,
   "metadata": {},
   "outputs": [],
   "source": [
    "numbers = range(100)\n",
    "\n",
    "num = WRITE DOWN YOUR CODE\n",
    "print num"
   ]
  },
  {
   "cell_type": "markdown",
   "metadata": {},
   "source": [
    "---\n",
    "## Reduce\n",
    "\n",
    "**Reduce** returns a single value"
   ]
  },
  {
   "cell_type": "code",
   "execution_count": null,
   "metadata": {},
   "outputs": [],
   "source": [
    "arr = [47,11,42,13]"
   ]
  },
  {
   "cell_type": "code",
   "execution_count": null,
   "metadata": {},
   "outputs": [],
   "source": [
    "reduce(lambda x,y: x+y, arr)"
   ]
  },
  {
   "cell_type": "code",
   "execution_count": null,
   "metadata": {},
   "outputs": [],
   "source": [
    "reduce(lambda x,y: x-y, arr)"
   ]
  },
  {
   "cell_type": "code",
   "execution_count": null,
   "metadata": {},
   "outputs": [],
   "source": [
    "ans = arr[0]\n",
    "for i in range(1,4):\n",
    "    ans -= arr[i]\n",
    "    \n",
    "print ans"
   ]
  },
  {
   "cell_type": "markdown",
   "metadata": {},
   "source": [
    "## Problem\n",
    "\n",
    "Use reduce to add from 1 through 100\n",
    "\n",
    "Use reduce to multiply from 1 through 100"
   ]
  },
  {
   "cell_type": "code",
   "execution_count": null,
   "metadata": {},
   "outputs": [],
   "source": []
  },
  {
   "cell_type": "markdown",
   "metadata": {},
   "source": [
    "## Problem\n",
    "\n",
    "Complete the **max_function** so that the output is **47**."
   ]
  },
  {
   "cell_type": "code",
   "execution_count": null,
   "metadata": {},
   "outputs": [],
   "source": [
    "arr = [47,11,42,13]\n",
    "\n",
    "# Finding max\n",
    "def max_function(x, y):\n",
    "    WRITE DOWN YOUR CODE\n",
    "    \n",
    "# Don't modify below\n",
    "result = reduce(max_function, arr)\n",
    "print result"
   ]
  },
  {
   "cell_type": "markdown",
   "metadata": {},
   "source": [
    "## Problem\n",
    "\n",
    "Do the same thing with reduce and lambda"
   ]
  },
  {
   "cell_type": "code",
   "execution_count": null,
   "metadata": {},
   "outputs": [],
   "source": []
  }
 ],
 "metadata": {
  "kernelspec": {
   "display_name": "Python 2",
   "language": "python",
   "name": "python2"
  },
  "language_info": {
   "codemirror_mode": {
    "name": "ipython",
    "version": 2
   },
   "file_extension": ".py",
   "mimetype": "text/x-python",
   "name": "python",
   "nbconvert_exporter": "python",
   "pygments_lexer": "ipython2",
   "version": "2.7.15"
  }
 },
 "nbformat": 4,
 "nbformat_minor": 2
}
